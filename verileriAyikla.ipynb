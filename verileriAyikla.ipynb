{
 "cells": [
  {
   "cell_type": "markdown",
   "metadata": {},
   "source": [
    "## Ankara için bir kira tahmini uygulaması"
   ]
  },
  {
   "cell_type": "code",
   "execution_count": 94,
   "metadata": {},
   "outputs": [],
   "source": [
    "import os\n",
    "import numpy as np\n",
    "import pandas as pd"
   ]
  },
  {
   "cell_type": "code",
   "execution_count": 95,
   "metadata": {},
   "outputs": [],
   "source": [
    "#csv dosyasındaki verileri \n",
    "df = pd.read_csv('hepsiEmlakAnkaraKiralikDaireler.csv')"
   ]
  },
  {
   "cell_type": "code",
   "execution_count": 96,
   "metadata": {},
   "outputs": [
    {
     "name": "stdout",
     "output_type": "stream",
     "text": [
      "Index(['img-link href', 'photo-count', 'list-view-price', 'list-view-date',\n",
      "       'list-view-title', 'left', 'celly', 'celly 2', 'celly 3', 'celly 4',\n",
      "       'list-view-location', 'img-wrp href', 'he-lazy-image src', 'wp-btn',\n",
      "       'listing-card--owner-info__firm-name', 'img-wrp href 2',\n",
      "       'he-lazy-image src 2', 'listing-card--owner-info__name',\n",
      "       'he-lazy-image src 3', 'list-view-header'],\n",
      "      dtype='object')\n"
     ]
    }
   ],
   "source": [
    "#sütunları inceleme\n",
    "print(df.columns)               "
   ]
  },
  {
   "cell_type": "code",
   "execution_count": 97,
   "metadata": {},
   "outputs": [
    {
     "data": {
      "text/html": [
       "<div>\n",
       "<style scoped>\n",
       "    .dataframe tbody tr th:only-of-type {\n",
       "        vertical-align: middle;\n",
       "    }\n",
       "\n",
       "    .dataframe tbody tr th {\n",
       "        vertical-align: top;\n",
       "    }\n",
       "\n",
       "    .dataframe thead th {\n",
       "        text-align: right;\n",
       "    }\n",
       "</style>\n",
       "<table border=\"1\" class=\"dataframe\">\n",
       "  <thead>\n",
       "    <tr style=\"text-align: right;\">\n",
       "      <th></th>\n",
       "      <th>İlçe</th>\n",
       "      <th>Mahalle</th>\n",
       "    </tr>\n",
       "  </thead>\n",
       "  <tbody>\n",
       "    <tr>\n",
       "      <th>0</th>\n",
       "      <td>Çankaya</td>\n",
       "      <td>Fakülteler Mah.</td>\n",
       "    </tr>\n",
       "    <tr>\n",
       "      <th>1</th>\n",
       "      <td>Çankaya</td>\n",
       "      <td>Bahçelievler Mah.</td>\n",
       "    </tr>\n",
       "    <tr>\n",
       "      <th>2</th>\n",
       "      <td>Keçiören</td>\n",
       "      <td>Yeşiltepe Mah.</td>\n",
       "    </tr>\n",
       "    <tr>\n",
       "      <th>3</th>\n",
       "      <td>Mamak</td>\n",
       "      <td>Ege Mah.</td>\n",
       "    </tr>\n",
       "    <tr>\n",
       "      <th>4</th>\n",
       "      <td>Çankaya</td>\n",
       "      <td>Gaziosmanpaşa Mah.</td>\n",
       "    </tr>\n",
       "    <tr>\n",
       "      <th>...</th>\n",
       "      <td>...</td>\n",
       "      <td>...</td>\n",
       "    </tr>\n",
       "    <tr>\n",
       "      <th>10325</th>\n",
       "      <td>Çankaya</td>\n",
       "      <td>Mutlukent Mah.</td>\n",
       "    </tr>\n",
       "    <tr>\n",
       "      <th>10326</th>\n",
       "      <td>Altındağ</td>\n",
       "      <td>Aydınlıkevler Mah.</td>\n",
       "    </tr>\n",
       "    <tr>\n",
       "      <th>10327</th>\n",
       "      <td>Keçiören</td>\n",
       "      <td>Kavacık Subayevleri Mah.</td>\n",
       "    </tr>\n",
       "    <tr>\n",
       "      <th>10328</th>\n",
       "      <td>Yenimahalle</td>\n",
       "      <td>Emniyet Mah.</td>\n",
       "    </tr>\n",
       "    <tr>\n",
       "      <th>10329</th>\n",
       "      <td>Çankaya</td>\n",
       "      <td>Oran Mah.</td>\n",
       "    </tr>\n",
       "  </tbody>\n",
       "</table>\n",
       "<p>10330 rows × 2 columns</p>\n",
       "</div>"
      ],
      "text/plain": [
       "                İlçe                    Mahalle\n",
       "0           Çankaya             Fakülteler Mah.\n",
       "1           Çankaya           Bahçelievler Mah.\n",
       "2          Keçiören              Yeşiltepe Mah.\n",
       "3             Mamak                    Ege Mah.\n",
       "4           Çankaya          Gaziosmanpaşa Mah.\n",
       "...              ...                        ...\n",
       "10325       Çankaya              Mutlukent Mah.\n",
       "10326      Altındağ          Aydınlıkevler Mah.\n",
       "10327      Keçiören    Kavacık Subayevleri Mah.\n",
       "10328   Yenimahalle                Emniyet Mah.\n",
       "10329       Çankaya                   Oran Mah.\n",
       "\n",
       "[10330 rows x 2 columns]"
      ]
     },
     "execution_count": 97,
     "metadata": {},
     "output_type": "execute_result"
    }
   ],
   "source": [
    "#adresleri yeni bi df yapalım\n",
    "addressDf = pd.DataFrame(df['list-view-location'].str.split('/', expand=True))\n",
    "addressDf.columns = [\"İl\",\"İlçe\",\"Mahalle\"]\n",
    "#burada tüm il sütununda Ankara yazdığı için belirli bir ölçüt değildir, zaten programın amacı Ankara'daki iller olduğu\n",
    "#için il sütununu siliyoruz\n",
    "addressDf.drop(columns=\"İl\", inplace=True)\n",
    "addressDf\n"
   ]
  },
  {
   "cell_type": "code",
   "execution_count": 98,
   "metadata": {},
   "outputs": [],
   "source": [
    "#gereksiz sütunları kaldırma\n",
    "df.drop(['photo-count', 'list-view-date', 'left', 'list-view-location', 'img-wrp href', 'he-lazy-image src', 'wp-btn', 'listing-card--owner-info__firm-name', 'img-wrp href 2', 'he-lazy-image src 2', 'listing-card--owner-info__name', 'he-lazy-image src 3', 'list-view-header','list-view-title'], axis=1,inplace=True)"
   ]
  },
  {
   "cell_type": "code",
   "execution_count": 99,
   "metadata": {},
   "outputs": [
    {
     "data": {
      "text/html": [
       "<div>\n",
       "<style scoped>\n",
       "    .dataframe tbody tr th:only-of-type {\n",
       "        vertical-align: middle;\n",
       "    }\n",
       "\n",
       "    .dataframe tbody tr th {\n",
       "        vertical-align: top;\n",
       "    }\n",
       "\n",
       "    .dataframe thead th {\n",
       "        text-align: right;\n",
       "    }\n",
       "</style>\n",
       "<table border=\"1\" class=\"dataframe\">\n",
       "  <thead>\n",
       "    <tr style=\"text-align: right;\">\n",
       "      <th></th>\n",
       "      <th>img-link href</th>\n",
       "      <th>list-view-price</th>\n",
       "      <th>celly</th>\n",
       "      <th>celly 2</th>\n",
       "      <th>celly 3</th>\n",
       "      <th>celly 4</th>\n",
       "      <th>İlçe</th>\n",
       "      <th>Mahalle</th>\n",
       "    </tr>\n",
       "  </thead>\n",
       "  <tbody>\n",
       "    <tr>\n",
       "      <th>0</th>\n",
       "      <td>https://www.hepsiemlak.com/ankara-cankaya-faku...</td>\n",
       "      <td>25.000</td>\n",
       "      <td>3 +\\n                          1</td>\n",
       "      <td>120 m²</td>\n",
       "      <td>40\\n                        Yaşında</td>\n",
       "      <td>3. Kat</td>\n",
       "      <td>Çankaya</td>\n",
       "      <td>Fakülteler Mah.</td>\n",
       "    </tr>\n",
       "    <tr>\n",
       "      <th>1</th>\n",
       "      <td>https://www.hepsiemlak.com/ankara-cankaya-bahc...</td>\n",
       "      <td>38.000</td>\n",
       "      <td>2 +\\n                          1</td>\n",
       "      <td>90 m²</td>\n",
       "      <td>30\\n                        Yaşında</td>\n",
       "      <td>1. Kat</td>\n",
       "      <td>Çankaya</td>\n",
       "      <td>Bahçelievler Mah.</td>\n",
       "    </tr>\n",
       "    <tr>\n",
       "      <th>2</th>\n",
       "      <td>https://www.hepsiemlak.com/ankara-kecioren-yes...</td>\n",
       "      <td>13.750</td>\n",
       "      <td>3 +\\n                          1</td>\n",
       "      <td>130 m²</td>\n",
       "      <td>25\\n                        Yaşında</td>\n",
       "      <td>Yüksek Giriş</td>\n",
       "      <td>Keçiören</td>\n",
       "      <td>Yeşiltepe Mah.</td>\n",
       "    </tr>\n",
       "    <tr>\n",
       "      <th>3</th>\n",
       "      <td>https://www.hepsiemlak.com/ankara-mamak-ege-ki...</td>\n",
       "      <td>26.500</td>\n",
       "      <td>3 +\\n                          1</td>\n",
       "      <td>130 m²</td>\n",
       "      <td>13\\n                        Yaşında</td>\n",
       "      <td>5. Kat</td>\n",
       "      <td>Mamak</td>\n",
       "      <td>Ege Mah.</td>\n",
       "    </tr>\n",
       "    <tr>\n",
       "      <th>4</th>\n",
       "      <td>https://www.hepsiemlak.com/ankara-cankaya-gazi...</td>\n",
       "      <td>55.000</td>\n",
       "      <td>5 +\\n                          1</td>\n",
       "      <td>225 m²</td>\n",
       "      <td>35\\n                        Yaşında</td>\n",
       "      <td>Bahçe Katı</td>\n",
       "      <td>Çankaya</td>\n",
       "      <td>Gaziosmanpaşa Mah.</td>\n",
       "    </tr>\n",
       "  </tbody>\n",
       "</table>\n",
       "</div>"
      ],
      "text/plain": [
       "                                       img-link href list-view-price  \\\n",
       "0  https://www.hepsiemlak.com/ankara-cankaya-faku...          25.000   \n",
       "1  https://www.hepsiemlak.com/ankara-cankaya-bahc...          38.000   \n",
       "2  https://www.hepsiemlak.com/ankara-kecioren-yes...          13.750   \n",
       "3  https://www.hepsiemlak.com/ankara-mamak-ege-ki...          26.500   \n",
       "4  https://www.hepsiemlak.com/ankara-cankaya-gazi...          55.000   \n",
       "\n",
       "                              celly celly 2  \\\n",
       "0  3 +\\n                          1  120 m²   \n",
       "1  2 +\\n                          1   90 m²   \n",
       "2  3 +\\n                          1  130 m²   \n",
       "3  3 +\\n                          1  130 m²   \n",
       "4  5 +\\n                          1  225 m²   \n",
       "\n",
       "                               celly 3       celly 4        İlçe  \\\n",
       "0  40\\n                        Yaşında        3. Kat    Çankaya    \n",
       "1  30\\n                        Yaşında        1. Kat    Çankaya    \n",
       "2  25\\n                        Yaşında  Yüksek Giriş   Keçiören    \n",
       "3  13\\n                        Yaşında        5. Kat      Mamak    \n",
       "4  35\\n                        Yaşında    Bahçe Katı    Çankaya    \n",
       "\n",
       "               Mahalle  \n",
       "0      Fakülteler Mah.  \n",
       "1    Bahçelievler Mah.  \n",
       "2       Yeşiltepe Mah.  \n",
       "3             Ege Mah.  \n",
       "4   Gaziosmanpaşa Mah.  "
      ]
     },
     "execution_count": 99,
     "metadata": {},
     "output_type": "execute_result"
    }
   ],
   "source": [
    "#adresleri ve orijinal dataframe'imizi birleştirelim\n",
    "df = pd.concat([df,addressDf], axis = 1)\n",
    "df.head()"
   ]
  },
  {
   "cell_type": "code",
   "execution_count": 100,
   "metadata": {},
   "outputs": [],
   "source": [
    "df.rename(columns={\n",
    "    \"img-link href\": \"Link\",\n",
    "    \"list-view-price\": \"Fiyat\",\n",
    "    \"celly\": \"Oda Sayısı\",\n",
    "    \"celly 2\": \"m^2\",\n",
    "    \"celly 3\": \"Bina Yaşı\",\n",
    "    \"celly 4\": \"Kat\"\n",
    "}, inplace=True)"
   ]
  },
  {
   "cell_type": "code",
   "execution_count": 101,
   "metadata": {},
   "outputs": [
    {
     "name": "stdout",
     "output_type": "stream",
     "text": [
      "['3 +\\n                          1' '2 +\\n                          1'\n",
      " '5 +\\n                          1' '4 +\\n                          1'\n",
      " '1 +\\n                          1' '4 +\\n                          4'\n",
      " '6 +\\n                          1' 'Stüdyo'\n",
      " '3 +\\n                          2' '9 +\\n                          3'\n",
      " '5 +\\n                          0' '5 +\\n                          2'\n",
      " '4 +\\n                          0' '4 +\\n                          2'\n",
      " '6 +\\n                          2' '8 +\\n                          1'\n",
      " '3 +\\n                          0' '7 +\\n                          1'\n",
      " '3 +\\n                          3' '2 +\\n                          0'\n",
      " '11 +\\n                          3' '3 +\\n                          5'\n",
      " '4 +\\n                          5' '7 +\\n                          2'\n",
      " '6 +\\n                          6' '2 +\\n                          2'\n",
      " '2 +\\n                          3' '10 +\\n                          1'\n",
      " '1 +\\n                          3' '8 +\\n                          2'\n",
      " '9 +\\n                          1' '25 +\\n                          2'\n",
      " '3 +\\n                          11' '4 +\\n                          3'\n",
      " '11 +\\n                          4' '11 +\\n                          1'\n",
      " '10 +\\n                          2' '36 +\\n                          15'\n",
      " '3 +\\n                          12' '22 +\\n                          1'\n",
      " '31 +\\n                          2' '40 +\\n                          10'\n",
      " '41 +\\n                          8' '3 +\\n                          10'\n",
      " '12 +\\n                          3' '3 +\\n                          4'\n",
      " '1 +\\n                          11' '15 +\\n                          1'\n",
      " '3 +\\n                          91' '66 +\\n                          1'\n",
      " '6 +\\n                          3' '1 +\\n                          2'\n",
      " '18 +\\n                          6' '45 +\\n                          0'\n",
      " '6 +\\n                          0']\n"
     ]
    }
   ],
   "source": [
    "print(df['Oda Sayısı'].unique())"
   ]
  },
  {
   "cell_type": "code",
   "execution_count": 102,
   "metadata": {},
   "outputs": [],
   "source": [
    "df['Oda Sayısı'] = df['Oda Sayısı'].apply(lambda x: x.replace('Stüdyo', '1 + 0') )\n",
    "df['Oda Sayısı'] = df['Oda Sayısı'].apply(lambda x: x.replace('\\n', '') )"
   ]
  },
  {
   "cell_type": "code",
   "execution_count": 103,
   "metadata": {},
   "outputs": [],
   "source": [
    "df['Oda'] = df['Oda Sayısı'].apply(lambda x: x.split('+')[0] ).astype(int)\n",
    "df['Salon'] = df['Oda Sayısı'].apply(lambda x: x.split('+')[1] ).astype(int)"
   ]
  },
  {
   "cell_type": "code",
   "execution_count": 104,
   "metadata": {},
   "outputs": [],
   "source": [
    "df.drop(columns='Oda Sayısı', inplace=True)"
   ]
  },
  {
   "cell_type": "code",
   "execution_count": 105,
   "metadata": {},
   "outputs": [
    {
     "name": "stdout",
     "output_type": "stream",
     "text": [
      "<class 'pandas.core.frame.DataFrame'>\n",
      "RangeIndex: 10330 entries, 0 to 10329\n",
      "Data columns (total 9 columns):\n",
      " #   Column     Non-Null Count  Dtype \n",
      "---  ------     --------------  ----- \n",
      " 0   Link       10330 non-null  object\n",
      " 1   Fiyat      10330 non-null  object\n",
      " 2   m^2        10330 non-null  object\n",
      " 3   Bina Yaşı  10326 non-null  object\n",
      " 4   Kat        10127 non-null  object\n",
      " 5   İlçe       10330 non-null  object\n",
      " 6   Mahalle    10330 non-null  object\n",
      " 7   Oda        10330 non-null  int64 \n",
      " 8   Salon      10330 non-null  int64 \n",
      "dtypes: int64(2), object(7)\n",
      "memory usage: 726.5+ KB\n"
     ]
    }
   ],
   "source": [
    "df.info()"
   ]
  },
  {
   "cell_type": "code",
   "execution_count": 106,
   "metadata": {},
   "outputs": [
    {
     "data": {
      "text/plain": [
       "array(['120 m²', '90 m²', '130 m²', '225 m²', '110 m²', '220 m²',\n",
       "       '200 m²', '105 m²', '160 m²', '150 m²', '135 m²', '145 m²',\n",
       "       '65 m²', '85 m²', '118 m²', '75 m²', '125 m²', '40 m²', '95 m²',\n",
       "       '155 m²', '115 m²', '140 m²', '45 m²', '180 m²', '175 m²',\n",
       "       '100 m²', '350 m²', '43 m²', '168 m²', '210 m²', '165 m²',\n",
       "       '190 m²', '1.450 m²', '170 m²', '195 m²', '138 m²', '285 m²',\n",
       "       '330 m²', '640 m²', '70 m²', '55 m²', '108 m²', '3.540 m²',\n",
       "       '60 m²', '700 m²', '35 m²', '162 m²', '62 m²', '260 m²', '300 m²',\n",
       "       '83 m²', '230 m²', '80 m²', '128 m²', '450 m²', '127 m²', '50 m²',\n",
       "       '139 m²', '54 m²', '185 m²', '240 m²', '98 m²', '107 m²', '313 m²',\n",
       "       '151 m²', '412 m²', '250 m²', '164 m²', '30 m²', '96 m²', '154 m²',\n",
       "       '159 m²', '82 m²', '183 m²', '58 m²', '72 m²', '67 m²', '117 m²',\n",
       "       '158 m²', '1.105 m²', '86 m²', '276 m²', '360 m²', '149 m²',\n",
       "       '94 m²', '124 m²', '280 m²', '99 m²', '1.120 m²', '126 m²',\n",
       "       '122 m²', '375 m²', '112 m²', '132 m²', '292 m²', '102 m²',\n",
       "       '750 m²', '123 m²', '650 m²', '500 m²', '430 m²', '900 m²',\n",
       "       '97 m²', '270 m²', '167 m²', '103 m²', '113 m²', '92 m²', '89 m²',\n",
       "       '93 m²', '57 m²', '161 m²', '290 m²', '232 m²', '144 m²', '78 m²',\n",
       "       '114 m²', '66 m²', '104 m²', '1.200 m²', '142 m²', '137 m²',\n",
       "       '470 m²', '116 m²', '141 m²', '255 m²', '146 m²', '235 m²',\n",
       "       '166 m²', '400 m²', '79 m²', '310 m²', '242 m²', '26 m²', '52 m²',\n",
       "       '133 m²', '197 m²', '56 m²', '216 m²', '119 m²', '101 m²',\n",
       "       '169 m²', '245 m²', '163 m²', '380 m²', '184 m²', '157 m²',\n",
       "       '399 m²', '129 m²', '201 m²', '171 m²', '21 m²', '148 m²',\n",
       "       '320 m²', '1.500 m²', '68 m²', '88 m²', '69 m²', '1.100 m²',\n",
       "       '1.215 m²', '84 m²', '131 m²', '143 m²', '174 m²', '63 m²',\n",
       "       '204 m²', '147 m²', '229 m²', '121 m²', '205 m²', '189 m²',\n",
       "       '1.750 m²', '600 m²', '490 m²', '275 m²', '109 m²', '550 m²',\n",
       "       '74 m²', '305 m²', '221 m²', '420 m²', '20 m²', '192 m²', '134 m²',\n",
       "       '38 m²', '27 m²', '219 m²', '73 m²', '76 m²', '2.560 m²', '47 m²',\n",
       "       '48 m²', '800 m²', '560 m²', '53 m²', '630 m²', '233 m²', '269 m²',\n",
       "       '198 m²', '196 m²', '172 m²', '153 m²', '395 m²', '87 m²',\n",
       "       '181 m²', '59 m²', '173 m²', '37 m²', '186 m²', '64 m²', '209 m²',\n",
       "       '91 m²', '1.000 m²', '2.000 m²', '44 m²', '1.121 m²', '178 m²',\n",
       "       '156 m²', '106 m²', '215 m²', '46 m²', '193 m²', '187 m²', '32 m²',\n",
       "       '176 m²', '1.300 m²', '223 m²', '42 m²', '36 m²', '194 m²',\n",
       "       '3.400 m²', '325 m²', '254 m²', '326 m²', '265 m²', '152 m²',\n",
       "       '340 m²', '25 m²', '394 m²', '459 m²', '449 m²', '188 m²',\n",
       "       '565 m²', '179 m²', '177 m²', '77 m²', '390 m²', '28 m²', '272 m²',\n",
       "       '870 m²', '208 m²', '71 m²', '222 m²', '416 m²', '31 m²',\n",
       "       '1.820 m²', '385 m²', '51 m²', '1.250 m²', '371 m²', '49 m²',\n",
       "       '23 m²', '226 m²', '191 m²', '256 m²', '253 m²', '279 m²',\n",
       "       '850 m²', '267 m²', '61 m²', '22 m²', '760 m²', '211 m²', '238 m²',\n",
       "       '203 m²', '33 m²'], dtype=object)"
      ]
     },
     "execution_count": 106,
     "metadata": {},
     "output_type": "execute_result"
    }
   ],
   "source": [
    "df['m^2'].unique()"
   ]
  },
  {
   "cell_type": "code",
   "execution_count": 107,
   "metadata": {},
   "outputs": [],
   "source": [
    "df['m^2'] = df['m^2'].apply(lambda x: x.replace('m²', ''))\n",
    "df['m^2'] = df['m^2'].apply(lambda x: x.replace('.', '')).astype(int)\n"
   ]
  },
  {
   "cell_type": "code",
   "execution_count": 108,
   "metadata": {},
   "outputs": [
    {
     "data": {
      "text/plain": [
       "array([ 120,   90,  130,  225,  110,  220,  200,  105,  160,  150,  135,\n",
       "        145,   65,   85,  118,   75,  125,   40,   95,  155,  115,  140,\n",
       "         45,  180,  175,  100,  350,   43,  168,  210,  165,  190, 1450,\n",
       "        170,  195,  138,  285,  330,  640,   70,   55,  108, 3540,   60,\n",
       "        700,   35,  162,   62,  260,  300,   83,  230,   80,  128,  450,\n",
       "        127,   50,  139,   54,  185,  240,   98,  107,  313,  151,  412,\n",
       "        250,  164,   30,   96,  154,  159,   82,  183,   58,   72,   67,\n",
       "        117,  158, 1105,   86,  276,  360,  149,   94,  124,  280,   99,\n",
       "       1120,  126,  122,  375,  112,  132,  292,  102,  750,  123,  650,\n",
       "        500,  430,  900,   97,  270,  167,  103,  113,   92,   89,   93,\n",
       "         57,  161,  290,  232,  144,   78,  114,   66,  104, 1200,  142,\n",
       "        137,  470,  116,  141,  255,  146,  235,  166,  400,   79,  310,\n",
       "        242,   26,   52,  133,  197,   56,  216,  119,  101,  169,  245,\n",
       "        163,  380,  184,  157,  399,  129,  201,  171,   21,  148,  320,\n",
       "       1500,   68,   88,   69, 1100, 1215,   84,  131,  143,  174,   63,\n",
       "        204,  147,  229,  121,  205,  189, 1750,  600,  490,  275,  109,\n",
       "        550,   74,  305,  221,  420,   20,  192,  134,   38,   27,  219,\n",
       "         73,   76, 2560,   47,   48,  800,  560,   53,  630,  233,  269,\n",
       "        198,  196,  172,  153,  395,   87,  181,   59,  173,   37,  186,\n",
       "         64,  209,   91, 1000, 2000,   44, 1121,  178,  156,  106,  215,\n",
       "         46,  193,  187,   32,  176, 1300,  223,   42,   36,  194, 3400,\n",
       "        325,  254,  326,  265,  152,  340,   25,  394,  459,  449,  188,\n",
       "        565,  179,  177,   77,  390,   28,  272,  870,  208,   71,  222,\n",
       "        416,   31, 1820,  385,   51, 1250,  371,   49,   23,  226,  191,\n",
       "        256,  253,  279,  850,  267,   61,   22,  760,  211,  238,  203,\n",
       "         33])"
      ]
     },
     "execution_count": 108,
     "metadata": {},
     "output_type": "execute_result"
    }
   ],
   "source": [
    "df['m^2'].unique()"
   ]
  },
  {
   "cell_type": "code",
   "execution_count": 109,
   "metadata": {},
   "outputs": [
    {
     "name": "stdout",
     "output_type": "stream",
     "text": [
      "<class 'pandas.core.frame.DataFrame'>\n",
      "RangeIndex: 10330 entries, 0 to 10329\n",
      "Data columns (total 9 columns):\n",
      " #   Column     Non-Null Count  Dtype \n",
      "---  ------     --------------  ----- \n",
      " 0   Link       10330 non-null  object\n",
      " 1   Fiyat      10330 non-null  object\n",
      " 2   m^2        10330 non-null  int64 \n",
      " 3   Bina Yaşı  10326 non-null  object\n",
      " 4   Kat        10127 non-null  object\n",
      " 5   İlçe       10330 non-null  object\n",
      " 6   Mahalle    10330 non-null  object\n",
      " 7   Oda        10330 non-null  int64 \n",
      " 8   Salon      10330 non-null  int64 \n",
      "dtypes: int64(3), object(6)\n",
      "memory usage: 726.5+ KB\n"
     ]
    }
   ],
   "source": [
    "df.info()"
   ]
  },
  {
   "cell_type": "code",
   "execution_count": 110,
   "metadata": {},
   "outputs": [
    {
     "data": {
      "text/plain": [
       "array(['40\\n                        Yaşında',\n",
       "       '30\\n                        Yaşında',\n",
       "       '25\\n                        Yaşında',\n",
       "       '13\\n                        Yaşında',\n",
       "       '35\\n                        Yaşında',\n",
       "       '5\\n                        Yaşında',\n",
       "       '10\\n                        Yaşında',\n",
       "       '20\\n                        Yaşında',\n",
       "       '15\\n                        Yaşında', 'Sıfır Bina',\n",
       "       '3\\n                        Yaşında',\n",
       "       '50\\n                        Yaşında',\n",
       "       '7\\n                        Yaşında',\n",
       "       '28\\n                        Yaşında',\n",
       "       '29\\n                        Yaşında',\n",
       "       '17\\n                        Yaşında',\n",
       "       '36\\n                        Yaşında',\n",
       "       '45\\n                        Yaşında',\n",
       "       '18\\n                        Yaşında',\n",
       "       '22\\n                        Yaşında',\n",
       "       '43\\n                        Yaşında',\n",
       "       '4\\n                        Yaşında',\n",
       "       '38\\n                        Yaşında',\n",
       "       '27\\n                        Yaşında',\n",
       "       '16\\n                        Yaşında',\n",
       "       '8\\n                        Yaşında',\n",
       "       '14\\n                        Yaşında',\n",
       "       '26\\n                        Yaşında',\n",
       "       '1\\n                        Yaşında',\n",
       "       '6\\n                        Yaşında',\n",
       "       '21\\n                        Yaşında',\n",
       "       '12\\n                        Yaşında',\n",
       "       '19\\n                        Yaşında',\n",
       "       '33\\n                        Yaşında',\n",
       "       '24\\n                        Yaşında',\n",
       "       '11\\n                        Yaşında',\n",
       "       '42\\n                        Yaşında',\n",
       "       '2\\n                        Yaşında',\n",
       "       '9\\n                        Yaşında',\n",
       "       '31\\n                        Yaşında',\n",
       "       '23\\n                        Yaşında',\n",
       "       '32\\n                        Yaşında',\n",
       "       '54\\n                        Yaşında',\n",
       "       '60\\n                        Yaşında',\n",
       "       '55\\n                        Yaşında',\n",
       "       '39\\n                        Yaşında',\n",
       "       '47\\n                        Yaşında',\n",
       "       '34\\n                        Yaşında',\n",
       "       '51\\n                        Yaşında',\n",
       "       '37\\n                        Yaşında',\n",
       "       '44\\n                        Yaşında',\n",
       "       '48\\n                        Yaşında',\n",
       "       '41\\n                        Yaşında',\n",
       "       '49\\n                        Yaşında',\n",
       "       '52\\n                        Yaşında',\n",
       "       '46\\n                        Yaşında',\n",
       "       '123\\n                        Yaşında',\n",
       "       '58\\n                        Yaşında', nan,\n",
       "       '167\\n                        Yaşında',\n",
       "       '445\\n                        Yaşında',\n",
       "       '125\\n                        Yaşında',\n",
       "       '340\\n                        Yaşında',\n",
       "       '110\\n                        Yaşında',\n",
       "       '59\\n                        Yaşında',\n",
       "       '81\\n                        Yaşında',\n",
       "       '80\\n                        Yaşında',\n",
       "       '115\\n                        Yaşında',\n",
       "       '101\\n                        Yaşında',\n",
       "       '220\\n                        Yaşında'], dtype=object)"
      ]
     },
     "execution_count": 110,
     "metadata": {},
     "output_type": "execute_result"
    }
   ],
   "source": [
    "df['Bina Yaşı'].unique()"
   ]
  },
  {
   "cell_type": "code",
   "execution_count": 127,
   "metadata": {},
   "outputs": [
    {
     "name": "stdout",
     "output_type": "stream",
     "text": [
      "Bina Yaşı\n",
      "0      961\n",
      "30     862\n",
      "25     792\n",
      "20     642\n",
      "15     609\n",
      "      ... \n",
      "167      1\n",
      "58       1\n",
      "123      1\n",
      "54       1\n",
      "220      1\n",
      "Name: count, Length: 70, dtype: int64\n",
      "0\n",
      "4\n"
     ]
    }
   ],
   "source": [
    "print(df['Bina Yaşı'].value_counts())  # Sütundaki değerlerin sıklığını göster\n",
    "print(df['Bina Yaşı'].isnull().sum())  # NULL değer sayısını göster\n",
    "print((df['Bina Yaşı'] == '').sum())   # Boş string ('') olan değerlerin sayısını göster\n",
    "df['Bina Yaşı'] = df['Bina Yaşı'].replace('', '0')  # Boş stringleri sıfırla değiştir\n",
    "df['Bina Yaşı'] = df['Bina Yaşı'].fillna('0')      # NULL değerleri sıfırla değiştir\n"
   ]
  },
  {
   "cell_type": "code",
   "execution_count": 132,
   "metadata": {},
   "outputs": [],
   "source": [
    "df['Bina Yaşı'] = df['Bina Yaşı'].astype(str)  # Stringe dönüştür\n",
    "df['Bina Yaşı'] = df['Bina Yaşı'].str.strip()  # Boşlukları temizle\n",
    "df['Bina Yaşı'] = df['Bina Yaşı'].str.replace(r'\\D', '', regex=True)  # Harf ve sembolleri temizle\n",
    "df['Bina Yaşı'] = df['Bina Yaşı'].astype(int)  # Integer'e dönüştür\n",
    "\n"
   ]
  },
  {
   "cell_type": "code",
   "execution_count": 133,
   "metadata": {},
   "outputs": [
    {
     "name": "stdout",
     "output_type": "stream",
     "text": [
      "[ 40  30  25  13  35   5  10  20  15   0   3  50   7  28  29  17  36  45\n",
      "  18  22  43   4  38  27  16   8  14  26   1   6  21  12  19  33  24  11\n",
      "  42   2   9  31  23  32  54  60  55  39  47  34  51  37  44  48  41  49\n",
      "  52  46 123  58 167 445 125 340 110  59  81  80 115 101 220]\n"
     ]
    }
   ],
   "source": [
    "print(df['Bina Yaşı'].unique())\n"
   ]
  },
  {
   "cell_type": "code",
   "execution_count": 134,
   "metadata": {},
   "outputs": [
    {
     "name": "stdout",
     "output_type": "stream",
     "text": [
      "['3. Kat' '1. Kat' '5. Kat' '0. Kat' '9. Kat' '2. Kat' '-1. Kat' '4. Kat'\n",
      " '14. Kat' '7. Kat' '-2. Kat' '6. Kat' nan '21. Kat' '10. Kat' '12. Kat'\n",
      " '8. Kat' '11. Kat' '18. Kat' '-3. Kat' '13. Kat' '16. Kat' '20. Kat'\n",
      " '19. Kat' '15. Kat' '17. Kat']\n"
     ]
    }
   ],
   "source": [
    "kat_replace = {\n",
    "    'Kot 1':'-1. Kat',\n",
    "    'Kot 2':'-2. Kat',\n",
    "    'Kot 3':'-3. Kat',\n",
    "    'Yüksek Giriş':'1. Kat',\n",
    "    'Ara Kat':'3. Kat',\n",
    "    'En Üst Kat':'6. Kat',\n",
    "    'Bahçe Katı': '0. Kat',\n",
    "    'Giriş Katı' :'0. Kat',\n",
    "    'Zemin':'0. Kat',\n",
    "    '21 ve üzeri': '21. Kat',\n",
    "    'Teras Katı': '6. Kat',\n",
    "    'Çatı Katı' :'6. Kat',\n",
    "    'Yarı Bodrum' : '0. Kat',\n",
    "    'Bodrum': '0. Kat',\n",
    "    'Bodrum ve Zemin':'0. Kat',\n",
    "    'Villa Katı': '0. Kat'\n",
    "}\n",
    "df['Kat'] = df['Kat'].replace(kat_replace.keys(), kat_replace.values())\n",
    "print(df['Kat'].unique())\n"
   ]
  },
  {
   "cell_type": "code",
   "execution_count": 135,
   "metadata": {},
   "outputs": [
    {
     "name": "stdout",
     "output_type": "stream",
     "text": [
      "[ 3  1  5  0  9  2 -1  4 14  7 -2  6 21 10 12  8 11 18 -3 13 16 20 19 15\n",
      " 17]\n"
     ]
    }
   ],
   "source": [
    "df.dropna(subset=['Kat'], inplace=True)\n",
    "df['Kat'] = df['Kat'].apply(lambda x: x.replace('. Kat', ' '))\n",
    "df['Kat'] = df['Kat'].apply(lambda x: x.replace(' ', '')).astype(int)\n",
    "print(df['Kat'].unique())\n"
   ]
  },
  {
   "cell_type": "code",
   "execution_count": 136,
   "metadata": {},
   "outputs": [
    {
     "name": "stdout",
     "output_type": "stream",
     "text": [
      "<class 'pandas.core.frame.DataFrame'>\n",
      "Index: 10127 entries, 0 to 10329\n",
      "Data columns (total 9 columns):\n",
      " #   Column     Non-Null Count  Dtype \n",
      "---  ------     --------------  ----- \n",
      " 0   Link       10127 non-null  object\n",
      " 1   Fiyat      10127 non-null  object\n",
      " 2   m^2        10127 non-null  int64 \n",
      " 3   Bina Yaşı  10127 non-null  int64 \n",
      " 4   Kat        10127 non-null  int64 \n",
      " 5   İlçe       10127 non-null  object\n",
      " 6   Mahalle    10127 non-null  object\n",
      " 7   Oda        10127 non-null  int64 \n",
      " 8   Salon      10127 non-null  int64 \n",
      "dtypes: int64(5), object(4)\n",
      "memory usage: 791.2+ KB\n"
     ]
    }
   ],
   "source": [
    "df.info()"
   ]
  },
  {
   "cell_type": "code",
   "execution_count": 137,
   "metadata": {},
   "outputs": [
    {
     "name": "stdout",
     "output_type": "stream",
     "text": [
      "['25.000' '38.000' '13.750' '26.500' '55.000' '31.500' '35.000' '30.000'\n",
      " '36.000' '21.500' '27.500' '39.000' '32.000' '14.250' '28.000' '15.000'\n",
      " '23.000' '16.300' '13.500' '17.000' '34.000' '20.000' '29.500' '26.000'\n",
      " '27.000' '20.500' '29.000' '22.500' '23.900' '22.000' '45.000' '16.000'\n",
      " '33.000' '59.000' '43.000' '19.000' '18.000' '18.500' '24.000' '13.000'\n",
      " '23.500' '57.000' '32.500' '17.500' '60.000' '21.000' '15.750' '14.500'\n",
      " '17.600' '14.000' '24.500' '15.400' '58.000' '15.500' '38.500' '40.000'\n",
      " '12.500' '44.000' '72.000' '25.500' '31.000' '18.750' '10.000' '37.000'\n",
      " '49.000' '10.500' '19.500' '54.000' '2.900' '14.750' '11.750' '12.000'\n",
      " '10.900' '50.000' '18.400' '13.150' '200.000' '63.000' '25.900' '29.250'\n",
      " '64.000' '49.500' '25.750' '42.000' '41.000' '34.950' '2.150.000'\n",
      " '16.500' '17.250' '28.500' '11.000' '29.750' '37.500' '20.750' '25.850'\n",
      " '185.000' '19.900' '17.400' '54.500' '24.750' '7.500' '6.000' '39.500'\n",
      " '150.000' '11.950' '51.000' '19.250' '95.000' '75.000' '56.000' '20.250'\n",
      " '13.350' '42.500' '12.750' '15.249' '15.250' '17.750' '17.999' '775.000'\n",
      " '36.500' '13.250' '12.950' '9.500' '69.000' '9.000' '46.000' '8.500'\n",
      " '41.500' '92.000' '19.750' '245.250' '13.200' '14.999' '12.250' '17.900'\n",
      " '52.000' '47.000' '24.250' '13.100' '85.000' '48.000' '18.250' '11.500'\n",
      " '14.900' '45.500' '47.500' '30.500' '51.500' '78.000' '13.999' '56.500'\n",
      " '27.750' '33.500' '65.000' '260.000' '61.500' '19.990' '19.999' '16.250'\n",
      " '100.000' '72.500' '76.000' '70.000' '30.750' '19.950' '22.250'\n",
      " '2.499.000' '40.500' '23.750' '68.000' '11.900' '16.750' '10.250'\n",
      " '28.750' '27.400' '35.500' '8.000' '1.700' '2.450.000' '13.400' '210.000'\n",
      " '19.400' '23.999' '14.200' '22.750' '265.000' '61.000' '53.000'\n",
      " '1.950.000.000' '18.450' '79.000' '20.999' '23.450' '87.500' '22.850'\n",
      " '190.000' '4.490.000' '125.000' '120.000' '30.250' '99.000' '18.900'\n",
      " '25.999' '16.800' '17.100' '3.200.000' '16.990' '380.000' '67.500'\n",
      " '52.500' '3.946.000' '170.000' '36.900' '29.900' '62.000' '46.500'\n",
      " '35.250' '18.150' '230.000' '1.999.000' '450.000' '8.250' '67.000'\n",
      " '110.000' '175.000' '9.250' '34.500' '16.200' '37.950' '18.999' '7.200'\n",
      " '19.200' '3.250.000' '29.950' '1.600.000' '25.700' '165.000' '26.750'\n",
      " '14.990' '79.500' '74.000' '15.950' '15.900' '20.450' '43.500' '20.100'\n",
      " '14.800' '12.850' '12.800' '250.000' '25.250' '23.250' '18.200' '5.000'\n",
      " '29.999' '14.449' '22.900' '43.750' '94.000' '21.750' '7.000' '21.250'\n",
      " '4.000' '1.635.000' '21.999' '10.100' '105.000' '1.530.000' '9.750'\n",
      " '14.700' '10.950' '32.250' '22.222' '54.750' '13.850' '39.750' '28.200'\n",
      " '80.000' '3.700.000' '15.300' '77.000' '10.800' '23.400' '17.800'\n",
      " '39.900' '86.000' '35.750' '106.000' '48.750' '7.500.000' '122.000'\n",
      " '90.000' '17.350' '3.750.000' '24.850' '20.900' '87.000' '16.999'\n",
      " '68.500' '21.900' '3.050.000' '16.100' '21.950' '42.999' '115.000'\n",
      " '15.200' '24.400' '400.000' '38.700' '20.400' '4.250.000' '15.700'\n",
      " '44.500' '31.900' '8.750' '88.000' '17.300' '34.250' '12.300' '145.000'\n",
      " '24.900' '9.000.000' '27.900' '13.800' '16.600' '59.500' '64.900' '1.111'\n",
      " '33.300' '13.990' '57.500' '6.500' '10.300' '24.449' '155.000' '62.500'\n",
      " '24.300' '1.550.000' '32.550' '48.500' '14.400' '1.000' '14.850' '2.500'\n",
      " '2.990.000' '20.150' '11.200' '9.100' '15.555' '67.250' '3.650.000'\n",
      " '4.950.000' '1.075.000' '58.500' '14.300' '89.000' '66.000' '10.750'\n",
      " '40.293' '16.400' '23.200' '73.000' '16.950' '130.000' '21.100' '76.500'\n",
      " '84.000' '133.000']\n"
     ]
    }
   ],
   "source": [
    "print(df['Fiyat'].unique())"
   ]
  },
  {
   "cell_type": "code",
   "execution_count": 138,
   "metadata": {},
   "outputs": [
    {
     "name": "stdout",
     "output_type": "stream",
     "text": [
      "[     25000      38000      13750      26500      55000      31500\n",
      "      35000      30000      36000      21500      27500      39000\n",
      "      32000      14250      28000      15000      23000      16300\n",
      "      13500      17000      34000      20000      29500      26000\n",
      "      27000      20500      29000      22500      23900      22000\n",
      "      45000      16000      33000      59000      43000      19000\n",
      "      18000      18500      24000      13000      23500      57000\n",
      "      32500      17500      60000      21000      15750      14500\n",
      "      17600      14000      24500      15400      58000      15500\n",
      "      38500      40000      12500      44000      72000      25500\n",
      "      31000      18750      10000      37000      49000      10500\n",
      "      19500      54000       2900      14750      11750      12000\n",
      "      10900      50000      18400      13150     200000      63000\n",
      "      25900      29250      64000      49500      25750      42000\n",
      "      41000      34950    2150000      16500      17250      28500\n",
      "      11000      29750      37500      20750      25850     185000\n",
      "      19900      17400      54500      24750       7500       6000\n",
      "      39500     150000      11950      51000      19250      95000\n",
      "      75000      56000      20250      13350      42500      12750\n",
      "      15249      15250      17750      17999     775000      36500\n",
      "      13250      12950       9500      69000       9000      46000\n",
      "       8500      41500      92000      19750     245250      13200\n",
      "      14999      12250      17900      52000      47000      24250\n",
      "      13100      85000      48000      18250      11500      14900\n",
      "      45500      47500      30500      51500      78000      13999\n",
      "      56500      27750      33500      65000     260000      61500\n",
      "      19990      19999      16250     100000      72500      76000\n",
      "      70000      30750      19950      22250    2499000      40500\n",
      "      23750      68000      11900      16750      10250      28750\n",
      "      27400      35500       8000       1700    2450000      13400\n",
      "     210000      19400      23999      14200      22750     265000\n",
      "      61000      53000 1950000000      18450      79000      20999\n",
      "      23450      87500      22850     190000    4490000     125000\n",
      "     120000      30250      99000      18900      25999      16800\n",
      "      17100    3200000      16990     380000      67500      52500\n",
      "    3946000     170000      36900      29900      62000      46500\n",
      "      35250      18150     230000    1999000     450000       8250\n",
      "      67000     110000     175000       9250      34500      16200\n",
      "      37950      18999       7200      19200    3250000      29950\n",
      "    1600000      25700     165000      26750      14990      79500\n",
      "      74000      15950      15900      20450      43500      20100\n",
      "      14800      12850      12800     250000      25250      23250\n",
      "      18200       5000      29999      14449      22900      43750\n",
      "      94000      21750       7000      21250       4000    1635000\n",
      "      21999      10100     105000    1530000       9750      14700\n",
      "      10950      32250      22222      54750      13850      39750\n",
      "      28200      80000    3700000      15300      77000      10800\n",
      "      23400      17800      39900      86000      35750     106000\n",
      "      48750    7500000     122000      90000      17350    3750000\n",
      "      24850      20900      87000      16999      68500      21900\n",
      "    3050000      16100      21950      42999     115000      15200\n",
      "      24400     400000      38700      20400    4250000      15700\n",
      "      44500      31900       8750      88000      17300      34250\n",
      "      12300     145000      24900    9000000      27900      13800\n",
      "      16600      59500      64900       1111      33300      13990\n",
      "      57500       6500      10300      24449     155000      62500\n",
      "      24300    1550000      32550      48500      14400       1000\n",
      "      14850       2500    2990000      20150      11200       9100\n",
      "      15555      67250    3650000    4950000    1075000      58500\n",
      "      14300      89000      66000      10750      40293      16400\n",
      "      23200      73000      16950     130000      21100      76500\n",
      "      84000     133000]\n"
     ]
    }
   ],
   "source": [
    "df['Fiyat'] = df['Fiyat'].astype(str).apply(lambda x: x.replace('.',''))\n",
    "df['Fiyat']= df['Fiyat'].astype(int)\n",
    "print(df['Fiyat'].unique())"
   ]
  },
  {
   "cell_type": "code",
   "execution_count": 139,
   "metadata": {},
   "outputs": [
    {
     "data": {
      "text/html": [
       "<div>\n",
       "<style scoped>\n",
       "    .dataframe tbody tr th:only-of-type {\n",
       "        vertical-align: middle;\n",
       "    }\n",
       "\n",
       "    .dataframe tbody tr th {\n",
       "        vertical-align: top;\n",
       "    }\n",
       "\n",
       "    .dataframe thead th {\n",
       "        text-align: right;\n",
       "    }\n",
       "</style>\n",
       "<table border=\"1\" class=\"dataframe\">\n",
       "  <thead>\n",
       "    <tr style=\"text-align: right;\">\n",
       "      <th></th>\n",
       "      <th>Link</th>\n",
       "      <th>Fiyat</th>\n",
       "      <th>m^2</th>\n",
       "      <th>Bina Yaşı</th>\n",
       "      <th>Kat</th>\n",
       "      <th>İlçe</th>\n",
       "      <th>Mahalle</th>\n",
       "      <th>Oda</th>\n",
       "      <th>Salon</th>\n",
       "    </tr>\n",
       "  </thead>\n",
       "  <tbody>\n",
       "    <tr>\n",
       "      <th>0</th>\n",
       "      <td>https://www.hepsiemlak.com/ankara-cankaya-faku...</td>\n",
       "      <td>25000</td>\n",
       "      <td>120</td>\n",
       "      <td>40</td>\n",
       "      <td>3</td>\n",
       "      <td>Çankaya</td>\n",
       "      <td>Fakülteler Mah.</td>\n",
       "      <td>3</td>\n",
       "      <td>1</td>\n",
       "    </tr>\n",
       "    <tr>\n",
       "      <th>1</th>\n",
       "      <td>https://www.hepsiemlak.com/ankara-cankaya-bahc...</td>\n",
       "      <td>38000</td>\n",
       "      <td>90</td>\n",
       "      <td>30</td>\n",
       "      <td>1</td>\n",
       "      <td>Çankaya</td>\n",
       "      <td>Bahçelievler Mah.</td>\n",
       "      <td>2</td>\n",
       "      <td>1</td>\n",
       "    </tr>\n",
       "    <tr>\n",
       "      <th>2</th>\n",
       "      <td>https://www.hepsiemlak.com/ankara-kecioren-yes...</td>\n",
       "      <td>13750</td>\n",
       "      <td>130</td>\n",
       "      <td>25</td>\n",
       "      <td>1</td>\n",
       "      <td>Keçiören</td>\n",
       "      <td>Yeşiltepe Mah.</td>\n",
       "      <td>3</td>\n",
       "      <td>1</td>\n",
       "    </tr>\n",
       "    <tr>\n",
       "      <th>3</th>\n",
       "      <td>https://www.hepsiemlak.com/ankara-mamak-ege-ki...</td>\n",
       "      <td>26500</td>\n",
       "      <td>130</td>\n",
       "      <td>13</td>\n",
       "      <td>5</td>\n",
       "      <td>Mamak</td>\n",
       "      <td>Ege Mah.</td>\n",
       "      <td>3</td>\n",
       "      <td>1</td>\n",
       "    </tr>\n",
       "    <tr>\n",
       "      <th>4</th>\n",
       "      <td>https://www.hepsiemlak.com/ankara-cankaya-gazi...</td>\n",
       "      <td>55000</td>\n",
       "      <td>225</td>\n",
       "      <td>35</td>\n",
       "      <td>0</td>\n",
       "      <td>Çankaya</td>\n",
       "      <td>Gaziosmanpaşa Mah.</td>\n",
       "      <td>5</td>\n",
       "      <td>1</td>\n",
       "    </tr>\n",
       "  </tbody>\n",
       "</table>\n",
       "</div>"
      ],
      "text/plain": [
       "                                                Link  Fiyat  m^2  Bina Yaşı  \\\n",
       "0  https://www.hepsiemlak.com/ankara-cankaya-faku...  25000  120         40   \n",
       "1  https://www.hepsiemlak.com/ankara-cankaya-bahc...  38000   90         30   \n",
       "2  https://www.hepsiemlak.com/ankara-kecioren-yes...  13750  130         25   \n",
       "3  https://www.hepsiemlak.com/ankara-mamak-ege-ki...  26500  130         13   \n",
       "4  https://www.hepsiemlak.com/ankara-cankaya-gazi...  55000  225         35   \n",
       "\n",
       "   Kat        İlçe              Mahalle  Oda  Salon  \n",
       "0    3    Çankaya       Fakülteler Mah.    3      1  \n",
       "1    1    Çankaya     Bahçelievler Mah.    2      1  \n",
       "2    1   Keçiören        Yeşiltepe Mah.    3      1  \n",
       "3    5      Mamak              Ege Mah.    3      1  \n",
       "4    0    Çankaya    Gaziosmanpaşa Mah.    5      1  "
      ]
     },
     "execution_count": 139,
     "metadata": {},
     "output_type": "execute_result"
    }
   ],
   "source": [
    "df.head()"
   ]
  },
  {
   "cell_type": "code",
   "execution_count": 140,
   "metadata": {},
   "outputs": [],
   "source": [
    "df['Oda Sayısı'] = (df['Oda'] + df['Salon']).astype(int)"
   ]
  },
  {
   "cell_type": "code",
   "execution_count": 141,
   "metadata": {},
   "outputs": [],
   "source": [
    "#gereksiz sütunları kaldırma\n",
    "df.drop(['Oda', 'Salon', 'Link'], axis=1,inplace=True)"
   ]
  },
  {
   "cell_type": "code",
   "execution_count": 142,
   "metadata": {},
   "outputs": [],
   "source": [
    "columns = [ 'İlçe', 'Mahalle', 'Oda Sayısı','m^2','Bina Yaşı', 'Kat',  'Fiyat']\n",
    "df = df[columns]\n",
    "# DataFrame'in kopyasını oluştur (link kolonunu silmeden önce bu şekilde bi kalsın istedim)\n",
    "df_copy = df.copy()\n"
   ]
  },
  {
   "cell_type": "code",
   "execution_count": 143,
   "metadata": {},
   "outputs": [
    {
     "data": {
      "text/html": [
       "<div>\n",
       "<style scoped>\n",
       "    .dataframe tbody tr th:only-of-type {\n",
       "        vertical-align: middle;\n",
       "    }\n",
       "\n",
       "    .dataframe tbody tr th {\n",
       "        vertical-align: top;\n",
       "    }\n",
       "\n",
       "    .dataframe thead th {\n",
       "        text-align: right;\n",
       "    }\n",
       "</style>\n",
       "<table border=\"1\" class=\"dataframe\">\n",
       "  <thead>\n",
       "    <tr style=\"text-align: right;\">\n",
       "      <th></th>\n",
       "      <th>İlçe</th>\n",
       "      <th>Mahalle</th>\n",
       "      <th>Oda Sayısı</th>\n",
       "      <th>m^2</th>\n",
       "      <th>Bina Yaşı</th>\n",
       "      <th>Kat</th>\n",
       "      <th>Fiyat</th>\n",
       "    </tr>\n",
       "  </thead>\n",
       "  <tbody>\n",
       "    <tr>\n",
       "      <th>0</th>\n",
       "      <td>Çankaya</td>\n",
       "      <td>Fakülteler</td>\n",
       "      <td>4</td>\n",
       "      <td>120</td>\n",
       "      <td>40</td>\n",
       "      <td>3</td>\n",
       "      <td>25000</td>\n",
       "    </tr>\n",
       "    <tr>\n",
       "      <th>1</th>\n",
       "      <td>Çankaya</td>\n",
       "      <td>Bahçelievler</td>\n",
       "      <td>3</td>\n",
       "      <td>90</td>\n",
       "      <td>30</td>\n",
       "      <td>1</td>\n",
       "      <td>38000</td>\n",
       "    </tr>\n",
       "    <tr>\n",
       "      <th>2</th>\n",
       "      <td>Keçiören</td>\n",
       "      <td>Yeşiltepe</td>\n",
       "      <td>4</td>\n",
       "      <td>130</td>\n",
       "      <td>25</td>\n",
       "      <td>1</td>\n",
       "      <td>13750</td>\n",
       "    </tr>\n",
       "    <tr>\n",
       "      <th>3</th>\n",
       "      <td>Mamak</td>\n",
       "      <td>Ege</td>\n",
       "      <td>4</td>\n",
       "      <td>130</td>\n",
       "      <td>13</td>\n",
       "      <td>5</td>\n",
       "      <td>26500</td>\n",
       "    </tr>\n",
       "    <tr>\n",
       "      <th>4</th>\n",
       "      <td>Çankaya</td>\n",
       "      <td>Gaziosmanpaşa</td>\n",
       "      <td>6</td>\n",
       "      <td>225</td>\n",
       "      <td>35</td>\n",
       "      <td>0</td>\n",
       "      <td>55000</td>\n",
       "    </tr>\n",
       "  </tbody>\n",
       "</table>\n",
       "</div>"
      ],
      "text/plain": [
       "         İlçe         Mahalle  Oda Sayısı  m^2  Bina Yaşı  Kat  Fiyat\n",
       "0    Çankaya       Fakülteler           4  120         40    3  25000\n",
       "1    Çankaya     Bahçelievler           3   90         30    1  38000\n",
       "2   Keçiören        Yeşiltepe           4  130         25    1  13750\n",
       "3      Mamak              Ege           4  130         13    5  26500\n",
       "4    Çankaya    Gaziosmanpaşa           6  225         35    0  55000"
      ]
     },
     "execution_count": 143,
     "metadata": {},
     "output_type": "execute_result"
    }
   ],
   "source": [
    "df['Mahalle'] = df['Mahalle'].apply(lambda x: x.replace(' Mah.', ''))\n",
    "df.head()"
   ]
  },
  {
   "cell_type": "code",
   "execution_count": 144,
   "metadata": {},
   "outputs": [],
   "source": [
    "#temizlediğimiz verileri yeni bir csv dosyasına aktaralım\n",
    "df.to_csv('data.csv',index=False)"
   ]
  },
  {
   "cell_type": "markdown",
   "metadata": {},
   "source": [
    "modeli ilk kurduğumuzda salon sayısını önemsiz ve oda sayısının önem düzeyini negatif olarak algıladı. bu durumu düzenleyebilmek için oda sayısı adında yeni bir sayısal kolon oluşturup oda sayısı değerlerinin toplamını gireceğiz yukarıda bu işlemleri yapıp devam edelim\n"
   ]
  },
  {
   "cell_type": "code",
   "execution_count": 145,
   "metadata": {},
   "outputs": [
    {
     "name": "stdout",
     "output_type": "stream",
     "text": [
      "<class 'pandas.core.frame.DataFrame'>\n",
      "Index: 10127 entries, 0 to 10329\n",
      "Data columns (total 7 columns):\n",
      " #   Column      Non-Null Count  Dtype \n",
      "---  ------      --------------  ----- \n",
      " 0   İlçe        10127 non-null  object\n",
      " 1   Mahalle     10127 non-null  object\n",
      " 2   Oda Sayısı  10127 non-null  int64 \n",
      " 3   m^2         10127 non-null  int64 \n",
      " 4   Bina Yaşı   10127 non-null  int64 \n",
      " 5   Kat         10127 non-null  int64 \n",
      " 6   Fiyat       10127 non-null  int64 \n",
      "dtypes: int64(5), object(2)\n",
      "memory usage: 632.9+ KB\n"
     ]
    }
   ],
   "source": [
    "df.info()"
   ]
  }
 ],
 "metadata": {
  "kernelspec": {
   "display_name": ".venv",
   "language": "python",
   "name": "python3"
  },
  "language_info": {
   "codemirror_mode": {
    "name": "ipython",
    "version": 3
   },
   "file_extension": ".py",
   "mimetype": "text/x-python",
   "name": "python",
   "nbconvert_exporter": "python",
   "pygments_lexer": "ipython3",
   "version": "3.12.1"
  }
 },
 "nbformat": 4,
 "nbformat_minor": 2
}
