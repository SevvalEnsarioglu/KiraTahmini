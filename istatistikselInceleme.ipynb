{
 "cells": [
  {
   "cell_type": "markdown",
   "metadata": {},
   "source": [
    "## Verilerin istatistiksel oalrak incelenip aykırı değerlerin ayıklanması"
   ]
  },
  {
   "cell_type": "code",
   "execution_count": 50,
   "metadata": {},
   "outputs": [],
   "source": [
    "import numpy as np \n",
    "import pandas as pd \n",
    "import matplotlib.pyplot as plt"
   ]
  },
  {
   "cell_type": "code",
   "execution_count": 51,
   "metadata": {},
   "outputs": [],
   "source": [
    "#verileri yükleme\n",
    "df = pd.read_csv('data.csv')"
   ]
  },
  {
   "cell_type": "code",
   "execution_count": 52,
   "metadata": {},
   "outputs": [
    {
     "name": "stdout",
     "output_type": "stream",
     "text": [
      "<class 'pandas.core.frame.DataFrame'>\n",
      "RangeIndex: 10127 entries, 0 to 10126\n",
      "Data columns (total 7 columns):\n",
      " #   Column      Non-Null Count  Dtype \n",
      "---  ------      --------------  ----- \n",
      " 0   İlçe        10127 non-null  object\n",
      " 1   Mahalle     10127 non-null  object\n",
      " 2   Oda Sayısı  10127 non-null  int64 \n",
      " 3   m^2         10127 non-null  int64 \n",
      " 4   Bina Yaşı   10127 non-null  int64 \n",
      " 5   Kat         10127 non-null  int64 \n",
      " 6   Fiyat       10127 non-null  int64 \n",
      "dtypes: int64(5), object(2)\n",
      "memory usage: 553.9+ KB\n"
     ]
    }
   ],
   "source": [
    "df.info()"
   ]
  },
  {
   "cell_type": "code",
   "execution_count": 54,
   "metadata": {},
   "outputs": [],
   "source": [
    "#değişken türlerini düzenli bir biçimde tanımladık\n",
    "df['İlçe'] = df['İlçe'].astype('category')\n",
    "df['Mahalle'] = df['Mahalle'].astype('category')\n",
    "df['Oda Sayısı'] = df['Oda Sayısı'].astype('int')\n",
    "df['m^2'] = df['m^2'].astype('int')\n",
    "df['Bina Yaşı'] = df['Bina Yaşı'].astype('int')\n",
    "df['Kat'] = df['Kat'].astype('int')\n",
    "df['Fiyat'] = df['Fiyat'].astype('int')"
   ]
  },
  {
   "cell_type": "markdown",
   "metadata": {},
   "source": [
    "numeric değişkenlerin minimum, maksimum ve çeyreklik değerlerinin bulunması"
   ]
  },
  {
   "cell_type": "code",
   "execution_count": 55,
   "metadata": {},
   "outputs": [
    {
     "name": "stdout",
     "output_type": "stream",
     "text": [
      "column: Oda Sayısı, min: 1.5, max: 5.5\n",
      "column: m^2, min: 43.0, max: 195.0\n",
      "column: Bina Yaşı, min: -27.0, max: 61.0\n",
      "column: Kat, min: -3.5, max: 8.5\n",
      "column: Fiyat, min: -250.0, max: 45750.0\n"
     ]
    }
   ],
   "source": [
    "columns = df.select_dtypes(include=[np.number]).columns\n",
    "min_values = []\n",
    "max_values = []\n",
    "for column in columns:\n",
    "    Q1 = df[column].quantile(0.25)\n",
    "    Q3 = df[column].quantile(0.75)\n",
    "    IQR = Q3 - Q1\n",
    "    min_value = Q1 - 1.5*IQR\n",
    "    max_value = Q3 + 1.5*IQR\n",
    "    min_values.append(min_value)\n",
    "    max_values.append(max_value)\n",
    "    print(f\"column: {column}, min: {min_value}, max: {max_value}\")\n"
   ]
  },
  {
   "cell_type": "markdown",
   "metadata": {},
   "source": [
    "aykırı değerlerin temizlenmesi"
   ]
  },
  {
   "cell_type": "code",
   "execution_count": 56,
   "metadata": {},
   "outputs": [],
   "source": [
    "for i, column in enumerate(columns):\n",
    "    df = df[(df[column]>=min_values[i]) & (df[column]<=max_values[i])]\n"
   ]
  },
  {
   "cell_type": "code",
   "execution_count": 57,
   "metadata": {},
   "outputs": [
    {
     "data": {
      "text/html": [
       "<div>\n",
       "<style scoped>\n",
       "    .dataframe tbody tr th:only-of-type {\n",
       "        vertical-align: middle;\n",
       "    }\n",
       "\n",
       "    .dataframe tbody tr th {\n",
       "        vertical-align: top;\n",
       "    }\n",
       "\n",
       "    .dataframe thead th {\n",
       "        text-align: right;\n",
       "    }\n",
       "</style>\n",
       "<table border=\"1\" class=\"dataframe\">\n",
       "  <thead>\n",
       "    <tr style=\"text-align: right;\">\n",
       "      <th></th>\n",
       "      <th>Oda Sayısı</th>\n",
       "      <th>m^2</th>\n",
       "      <th>Bina Yaşı</th>\n",
       "      <th>Kat</th>\n",
       "      <th>Fiyat</th>\n",
       "    </tr>\n",
       "  </thead>\n",
       "  <tbody>\n",
       "    <tr>\n",
       "      <th>count</th>\n",
       "      <td>8517.000000</td>\n",
       "      <td>8517.000000</td>\n",
       "      <td>8517.000000</td>\n",
       "      <td>8517.000000</td>\n",
       "      <td>8517.000000</td>\n",
       "    </tr>\n",
       "    <tr>\n",
       "      <th>mean</th>\n",
       "      <td>3.635552</td>\n",
       "      <td>114.824116</td>\n",
       "      <td>19.426441</td>\n",
       "      <td>2.241634</td>\n",
       "      <td>21610.836562</td>\n",
       "    </tr>\n",
       "    <tr>\n",
       "      <th>std</th>\n",
       "      <td>0.746430</td>\n",
       "      <td>28.637562</td>\n",
       "      <td>12.676769</td>\n",
       "      <td>1.977941</td>\n",
       "      <td>7361.953912</td>\n",
       "    </tr>\n",
       "    <tr>\n",
       "      <th>min</th>\n",
       "      <td>2.000000</td>\n",
       "      <td>43.000000</td>\n",
       "      <td>0.000000</td>\n",
       "      <td>-3.000000</td>\n",
       "      <td>1000.000000</td>\n",
       "    </tr>\n",
       "    <tr>\n",
       "      <th>25%</th>\n",
       "      <td>3.000000</td>\n",
       "      <td>100.000000</td>\n",
       "      <td>10.000000</td>\n",
       "      <td>1.000000</td>\n",
       "      <td>16000.000000</td>\n",
       "    </tr>\n",
       "    <tr>\n",
       "      <th>50%</th>\n",
       "      <td>4.000000</td>\n",
       "      <td>120.000000</td>\n",
       "      <td>20.000000</td>\n",
       "      <td>2.000000</td>\n",
       "      <td>20000.000000</td>\n",
       "    </tr>\n",
       "    <tr>\n",
       "      <th>75%</th>\n",
       "      <td>4.000000</td>\n",
       "      <td>130.000000</td>\n",
       "      <td>30.000000</td>\n",
       "      <td>3.000000</td>\n",
       "      <td>25000.000000</td>\n",
       "    </tr>\n",
       "    <tr>\n",
       "      <th>max</th>\n",
       "      <td>5.000000</td>\n",
       "      <td>195.000000</td>\n",
       "      <td>60.000000</td>\n",
       "      <td>8.000000</td>\n",
       "      <td>45500.000000</td>\n",
       "    </tr>\n",
       "  </tbody>\n",
       "</table>\n",
       "</div>"
      ],
      "text/plain": [
       "        Oda Sayısı          m^2    Bina Yaşı          Kat         Fiyat\n",
       "count  8517.000000  8517.000000  8517.000000  8517.000000   8517.000000\n",
       "mean      3.635552   114.824116    19.426441     2.241634  21610.836562\n",
       "std       0.746430    28.637562    12.676769     1.977941   7361.953912\n",
       "min       2.000000    43.000000     0.000000    -3.000000   1000.000000\n",
       "25%       3.000000   100.000000    10.000000     1.000000  16000.000000\n",
       "50%       4.000000   120.000000    20.000000     2.000000  20000.000000\n",
       "75%       4.000000   130.000000    30.000000     3.000000  25000.000000\n",
       "max       5.000000   195.000000    60.000000     8.000000  45500.000000"
      ]
     },
     "execution_count": 57,
     "metadata": {},
     "output_type": "execute_result"
    }
   ],
   "source": [
    "df.describe()"
   ]
  },
  {
   "cell_type": "markdown",
   "metadata": {},
   "source": [
    "kira fiyatı için elle düzeltme"
   ]
  },
  {
   "cell_type": "code",
   "execution_count": 58,
   "metadata": {},
   "outputs": [],
   "source": [
    "df = df[df[\"Fiyat\"]>=3000]"
   ]
  },
  {
   "cell_type": "code",
   "execution_count": 59,
   "metadata": {},
   "outputs": [
    {
     "name": "stdout",
     "output_type": "stream",
     "text": [
      "<class 'pandas.core.frame.DataFrame'>\n",
      "Index: 8512 entries, 0 to 10124\n",
      "Data columns (total 7 columns):\n",
      " #   Column      Non-Null Count  Dtype   \n",
      "---  ------      --------------  -----   \n",
      " 0   İlçe        8512 non-null   category\n",
      " 1   Mahalle     8512 non-null   category\n",
      " 2   Oda Sayısı  8512 non-null   int64   \n",
      " 3   m^2         8512 non-null   int64   \n",
      " 4   Bina Yaşı   8512 non-null   int64   \n",
      " 5   Kat         8512 non-null   int64   \n",
      " 6   Fiyat       8512 non-null   int64   \n",
      "dtypes: category(2), int64(5)\n",
      "memory usage: 435.7 KB\n"
     ]
    }
   ],
   "source": [
    "df.info()"
   ]
  },
  {
   "cell_type": "code",
   "execution_count": 60,
   "metadata": {},
   "outputs": [],
   "source": [
    "df.to_csv('data_cleaned.csv', index=False)"
   ]
  }
 ],
 "metadata": {
  "kernelspec": {
   "display_name": ".venv",
   "language": "python",
   "name": "python3"
  },
  "language_info": {
   "codemirror_mode": {
    "name": "ipython",
    "version": 3
   },
   "file_extension": ".py",
   "mimetype": "text/x-python",
   "name": "python",
   "nbconvert_exporter": "python",
   "pygments_lexer": "ipython3",
   "version": "3.12.1"
  }
 },
 "nbformat": 4,
 "nbformat_minor": 2
}
