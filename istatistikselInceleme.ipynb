{
 "cells": [
  {
   "cell_type": "markdown",
   "metadata": {},
   "source": [
    "## Verilerin istatistiksel oalrak incelenip aykırı değerlerin ayıklanması"
   ]
  },
  {
   "cell_type": "code",
   "execution_count": 36,
   "metadata": {},
   "outputs": [],
   "source": [
    "import numpy as np \n",
    "import pandas as pd \n",
    "import matplotlib.pyplot as plt"
   ]
  },
  {
   "cell_type": "code",
   "execution_count": 37,
   "metadata": {},
   "outputs": [],
   "source": [
    "#verileri yükleme\n",
    "df = pd.read_csv('data.csv')"
   ]
  },
  {
   "cell_type": "code",
   "execution_count": 38,
   "metadata": {},
   "outputs": [
    {
     "name": "stdout",
     "output_type": "stream",
     "text": [
      "<class 'pandas.core.frame.DataFrame'>\n",
      "RangeIndex: 10127 entries, 0 to 10126\n",
      "Data columns (total 8 columns):\n",
      " #   Column     Non-Null Count  Dtype \n",
      "---  ------     --------------  ----- \n",
      " 0   İlçe       10127 non-null  object\n",
      " 1   Mahalle    10127 non-null  object\n",
      " 2   Oda        10127 non-null  int64 \n",
      " 3   Salon      10127 non-null  int64 \n",
      " 4   m^2        10127 non-null  int64 \n",
      " 5   Bina Yaşı  10127 non-null  int64 \n",
      " 6   Kat        10127 non-null  int64 \n",
      " 7   Fiyat      10127 non-null  int64 \n",
      "dtypes: int64(6), object(2)\n",
      "memory usage: 633.1+ KB\n"
     ]
    }
   ],
   "source": [
    "df.info()"
   ]
  },
  {
   "cell_type": "code",
   "execution_count": 39,
   "metadata": {},
   "outputs": [],
   "source": [
    "#değişken türlerini düzenli bir biçimde tanımladık\n",
    "df['İlçe'] = df['İlçe'].astype('category')\n",
    "df['Mahalle'] = df['Mahalle'].astype('category')\n",
    "df['Oda'] = df['Oda'].astype('int')\n",
    "df['Salon'] = df['Salon'].astype('int')\n",
    "df['m^2'] = df['m^2'].astype('int')\n",
    "df['Bina Yaşı'] = df['Bina Yaşı'].astype('int')\n",
    "df['Kat'] = df['Kat'].astype('int')\n",
    "df['Fiyat'] = df['Fiyat'].astype('int')"
   ]
  },
  {
   "cell_type": "markdown",
   "metadata": {},
   "source": [
    "numeric değişkenlerin minimum, maksimum ve çeyreklik değerlerinin bulunması"
   ]
  },
  {
   "cell_type": "code",
   "execution_count": 40,
   "metadata": {},
   "outputs": [
    {
     "name": "stdout",
     "output_type": "stream",
     "text": [
      "column: Oda, min: 0.5, max: 4.5\n",
      "column: Salon, min: 1.0, max: 1.0\n",
      "column: m^2, min: 43.0, max: 195.0\n",
      "column: Bina Yaşı, min: -27.0, max: 61.0\n",
      "column: Kat, min: -3.5, max: 8.5\n",
      "column: Fiyat, min: -250.0, max: 45750.0\n"
     ]
    }
   ],
   "source": [
    "columns = df.select_dtypes(include=[np.number]).columns\n",
    "min_values = []\n",
    "max_values = []\n",
    "for column in columns:\n",
    "    Q1 = df[column].quantile(0.25)\n",
    "    Q3 = df[column].quantile(0.75)\n",
    "    IQR = Q3 - Q1\n",
    "    min_value = Q1 - 1.5*IQR\n",
    "    max_value = Q3 + 1.5*IQR\n",
    "    min_values.append(min_value)\n",
    "    max_values.append(max_value)\n",
    "    print(f\"column: {column}, min: {min_value}, max: {max_value}\")\n"
   ]
  },
  {
   "cell_type": "markdown",
   "metadata": {},
   "source": [
    "aykırı değerlerin temizlenmesi"
   ]
  },
  {
   "cell_type": "code",
   "execution_count": 41,
   "metadata": {},
   "outputs": [],
   "source": [
    "for i, column in enumerate(columns):\n",
    "    df = df[(df[column]>=min_values[i]) & (df[column]<=max_values[i])]\n"
   ]
  },
  {
   "cell_type": "code",
   "execution_count": 42,
   "metadata": {},
   "outputs": [
    {
     "data": {
      "text/html": [
       "<div>\n",
       "<style scoped>\n",
       "    .dataframe tbody tr th:only-of-type {\n",
       "        vertical-align: middle;\n",
       "    }\n",
       "\n",
       "    .dataframe tbody tr th {\n",
       "        vertical-align: top;\n",
       "    }\n",
       "\n",
       "    .dataframe thead th {\n",
       "        text-align: right;\n",
       "    }\n",
       "</style>\n",
       "<table border=\"1\" class=\"dataframe\">\n",
       "  <thead>\n",
       "    <tr style=\"text-align: right;\">\n",
       "      <th></th>\n",
       "      <th>Oda</th>\n",
       "      <th>Salon</th>\n",
       "      <th>m^2</th>\n",
       "      <th>Bina Yaşı</th>\n",
       "      <th>Kat</th>\n",
       "      <th>Fiyat</th>\n",
       "    </tr>\n",
       "  </thead>\n",
       "  <tbody>\n",
       "    <tr>\n",
       "      <th>count</th>\n",
       "      <td>8439.000000</td>\n",
       "      <td>8439.0</td>\n",
       "      <td>8439.000000</td>\n",
       "      <td>8439.000000</td>\n",
       "      <td>8439.000000</td>\n",
       "      <td>8439.000000</td>\n",
       "    </tr>\n",
       "    <tr>\n",
       "      <th>mean</th>\n",
       "      <td>2.641071</td>\n",
       "      <td>1.0</td>\n",
       "      <td>114.834222</td>\n",
       "      <td>19.440455</td>\n",
       "      <td>2.242564</td>\n",
       "      <td>21630.038512</td>\n",
       "    </tr>\n",
       "    <tr>\n",
       "      <th>std</th>\n",
       "      <td>0.742331</td>\n",
       "      <td>0.0</td>\n",
       "      <td>28.669313</td>\n",
       "      <td>12.675625</td>\n",
       "      <td>1.979226</td>\n",
       "      <td>7368.483500</td>\n",
       "    </tr>\n",
       "    <tr>\n",
       "      <th>min</th>\n",
       "      <td>1.000000</td>\n",
       "      <td>1.0</td>\n",
       "      <td>43.000000</td>\n",
       "      <td>0.000000</td>\n",
       "      <td>-3.000000</td>\n",
       "      <td>1000.000000</td>\n",
       "    </tr>\n",
       "    <tr>\n",
       "      <th>25%</th>\n",
       "      <td>2.000000</td>\n",
       "      <td>1.0</td>\n",
       "      <td>100.000000</td>\n",
       "      <td>10.000000</td>\n",
       "      <td>1.000000</td>\n",
       "      <td>16000.000000</td>\n",
       "    </tr>\n",
       "    <tr>\n",
       "      <th>50%</th>\n",
       "      <td>3.000000</td>\n",
       "      <td>1.0</td>\n",
       "      <td>120.000000</td>\n",
       "      <td>20.000000</td>\n",
       "      <td>2.000000</td>\n",
       "      <td>20000.000000</td>\n",
       "    </tr>\n",
       "    <tr>\n",
       "      <th>75%</th>\n",
       "      <td>3.000000</td>\n",
       "      <td>1.0</td>\n",
       "      <td>130.000000</td>\n",
       "      <td>30.000000</td>\n",
       "      <td>3.000000</td>\n",
       "      <td>25500.000000</td>\n",
       "    </tr>\n",
       "    <tr>\n",
       "      <th>max</th>\n",
       "      <td>4.000000</td>\n",
       "      <td>1.0</td>\n",
       "      <td>195.000000</td>\n",
       "      <td>60.000000</td>\n",
       "      <td>8.000000</td>\n",
       "      <td>45500.000000</td>\n",
       "    </tr>\n",
       "  </tbody>\n",
       "</table>\n",
       "</div>"
      ],
      "text/plain": [
       "               Oda   Salon          m^2    Bina Yaşı          Kat  \\\n",
       "count  8439.000000  8439.0  8439.000000  8439.000000  8439.000000   \n",
       "mean      2.641071     1.0   114.834222    19.440455     2.242564   \n",
       "std       0.742331     0.0    28.669313    12.675625     1.979226   \n",
       "min       1.000000     1.0    43.000000     0.000000    -3.000000   \n",
       "25%       2.000000     1.0   100.000000    10.000000     1.000000   \n",
       "50%       3.000000     1.0   120.000000    20.000000     2.000000   \n",
       "75%       3.000000     1.0   130.000000    30.000000     3.000000   \n",
       "max       4.000000     1.0   195.000000    60.000000     8.000000   \n",
       "\n",
       "              Fiyat  \n",
       "count   8439.000000  \n",
       "mean   21630.038512  \n",
       "std     7368.483500  \n",
       "min     1000.000000  \n",
       "25%    16000.000000  \n",
       "50%    20000.000000  \n",
       "75%    25500.000000  \n",
       "max    45500.000000  "
      ]
     },
     "execution_count": 42,
     "metadata": {},
     "output_type": "execute_result"
    }
   ],
   "source": [
    "df.describe()"
   ]
  },
  {
   "cell_type": "markdown",
   "metadata": {},
   "source": [
    "kira fiyatı için elle düzeltme"
   ]
  },
  {
   "cell_type": "code",
   "execution_count": 43,
   "metadata": {},
   "outputs": [],
   "source": [
    "df = df[df[\"Fiyat\"]>=3000]"
   ]
  },
  {
   "cell_type": "code",
   "execution_count": 44,
   "metadata": {},
   "outputs": [
    {
     "name": "stdout",
     "output_type": "stream",
     "text": [
      "<class 'pandas.core.frame.DataFrame'>\n",
      "Index: 8434 entries, 0 to 10124\n",
      "Data columns (total 8 columns):\n",
      " #   Column     Non-Null Count  Dtype   \n",
      "---  ------     --------------  -----   \n",
      " 0   İlçe       8434 non-null   category\n",
      " 1   Mahalle    8434 non-null   category\n",
      " 2   Oda        8434 non-null   int64   \n",
      " 3   Salon      8434 non-null   int64   \n",
      " 4   m^2        8434 non-null   int64   \n",
      " 5   Bina Yaşı  8434 non-null   int64   \n",
      " 6   Kat        8434 non-null   int64   \n",
      " 7   Fiyat      8434 non-null   int64   \n",
      "dtypes: category(2), int64(6)\n",
      "memory usage: 497.7 KB\n"
     ]
    }
   ],
   "source": [
    "df.info()"
   ]
  },
  {
   "cell_type": "code",
   "execution_count": 45,
   "metadata": {},
   "outputs": [],
   "source": [
    "df.to_csv('data_cleaned.csv', index=False)"
   ]
  }
 ],
 "metadata": {
  "kernelspec": {
   "display_name": ".venv",
   "language": "python",
   "name": "python3"
  },
  "language_info": {
   "codemirror_mode": {
    "name": "ipython",
    "version": 3
   },
   "file_extension": ".py",
   "mimetype": "text/x-python",
   "name": "python",
   "nbconvert_exporter": "python",
   "pygments_lexer": "ipython3",
   "version": "3.12.1"
  }
 },
 "nbformat": 4,
 "nbformat_minor": 2
}
